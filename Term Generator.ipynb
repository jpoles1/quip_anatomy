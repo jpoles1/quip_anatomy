{
 "cells": [
  {
   "cell_type": "code",
   "execution_count": 1,
   "metadata": {},
   "outputs": [],
   "source": [
    "from pyquery import PyQuery as pq\n",
    "import re\n",
    "import pandas as pd"
   ]
  },
  {
   "cell_type": "code",
   "execution_count": 2,
   "metadata": {},
   "outputs": [],
   "source": [
    "def flatten(arr):\n",
    "    return [val for sublist in arr for val in sublist]\n",
    "def clean_term(term):\n",
    "    term = re.sub(\"</div>\\n<div>\", \"\\n\", term)\n",
    "    term = re.sub(\"\\xa0\", \"\", term)\n",
    "    term = re.sub(\"\\*\", \"\", term)\n",
    "    term = re.sub(\"</div>\\n<div>\", \"\\n\", term)\n",
    "    term = re.sub(\"(</div>)|(<div>)\", \"\", term)\n",
    "    term = re.sub(\"<span.*>.*<\\/span>\", \"\", term)\n",
    "    term = re.sub(\"<b>.*<\\/b>\", \"\", term)\n",
    "    term = re.sub(\"<br\\/*>\", \"\\n\", term)\n",
    "    return term.strip()\n",
    "def fetch_terms(filename):\n",
    "    with open(\"data/\"+filename) as spine:\n",
    "        doc = pq(spine.read())\n",
    "        terms = [clean_term(row(\"td\").eq(0).html()) for row in list(doc(\"tr\").items())[1:]]\n",
    "        terms = flatten([term.split(\"\\n\") for term in terms if term != \"\"])\n",
    "        return terms\n",
    "def gen_frame(filename, lesson):\n",
    "    terms = fetch_terms(filename)\n",
    "    return pd.DataFrame({\"Term\": terms, \"Lesson\": [lesson]*len(terms)})"
   ]
  },
  {
   "cell_type": "code",
   "execution_count": 3,
   "metadata": {},
   "outputs": [],
   "source": [
    "pd.concat([\n",
    "    gen_frame(\"spine.html\", \"Spine\"),\n",
    "    gen_frame(\"thoracic_wall.html\", \"Thoracic Wall\")\n",
    "]).to_csv(\"terms.csv\", index=False)"
   ]
  },
  {
   "cell_type": "code",
   "execution_count": null,
   "metadata": {},
   "outputs": [],
   "source": []
  },
  {
   "cell_type": "code",
   "execution_count": null,
   "metadata": {},
   "outputs": [],
   "source": []
  }
 ],
 "metadata": {
  "kernelspec": {
   "display_name": "Python 3",
   "language": "python",
   "name": "python3"
  },
  "language_info": {
   "codemirror_mode": {
    "name": "ipython",
    "version": 3
   },
   "file_extension": ".py",
   "mimetype": "text/x-python",
   "name": "python",
   "nbconvert_exporter": "python",
   "pygments_lexer": "ipython3",
   "version": "3.5.2"
  }
 },
 "nbformat": 4,
 "nbformat_minor": 2
}
